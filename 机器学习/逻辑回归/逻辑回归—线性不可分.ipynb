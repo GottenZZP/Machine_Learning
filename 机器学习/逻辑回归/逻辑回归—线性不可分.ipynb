{
 "cells": [
  {
   "cell_type": "code",
   "execution_count": 1,
   "id": "7e57db03",
   "metadata": {},
   "outputs": [],
   "source": [
    "import numpy as np\n",
    "import pandas as pd\n",
    "import matplotlib.pyplot as plt"
   ]
  },
  {
   "cell_type": "code",
   "execution_count": 2,
   "id": "7a5f3713",
   "metadata": {},
   "outputs": [
    {
     "data": {
      "text/html": [
       "<div>\n",
       "<style scoped>\n",
       "    .dataframe tbody tr th:only-of-type {\n",
       "        vertical-align: middle;\n",
       "    }\n",
       "\n",
       "    .dataframe tbody tr th {\n",
       "        vertical-align: top;\n",
       "    }\n",
       "\n",
       "    .dataframe thead th {\n",
       "        text-align: right;\n",
       "    }\n",
       "</style>\n",
       "<table border=\"1\" class=\"dataframe\">\n",
       "  <thead>\n",
       "    <tr style=\"text-align: right;\">\n",
       "      <th></th>\n",
       "      <th>Test1</th>\n",
       "      <th>Test2</th>\n",
       "      <th>Accepted</th>\n",
       "    </tr>\n",
       "  </thead>\n",
       "  <tbody>\n",
       "    <tr>\n",
       "      <th>0</th>\n",
       "      <td>0.051267</td>\n",
       "      <td>0.69956</td>\n",
       "      <td>1</td>\n",
       "    </tr>\n",
       "    <tr>\n",
       "      <th>1</th>\n",
       "      <td>-0.092742</td>\n",
       "      <td>0.68494</td>\n",
       "      <td>1</td>\n",
       "    </tr>\n",
       "    <tr>\n",
       "      <th>2</th>\n",
       "      <td>-0.213710</td>\n",
       "      <td>0.69225</td>\n",
       "      <td>1</td>\n",
       "    </tr>\n",
       "    <tr>\n",
       "      <th>3</th>\n",
       "      <td>-0.375000</td>\n",
       "      <td>0.50219</td>\n",
       "      <td>1</td>\n",
       "    </tr>\n",
       "    <tr>\n",
       "      <th>4</th>\n",
       "      <td>-0.513250</td>\n",
       "      <td>0.46564</td>\n",
       "      <td>1</td>\n",
       "    </tr>\n",
       "  </tbody>\n",
       "</table>\n",
       "</div>"
      ],
      "text/plain": [
       "      Test1    Test2  Accepted\n",
       "0  0.051267  0.69956         1\n",
       "1 -0.092742  0.68494         1\n",
       "2 -0.213710  0.69225         1\n",
       "3 -0.375000  0.50219         1\n",
       "4 -0.513250  0.46564         1"
      ]
     },
     "execution_count": 2,
     "metadata": {},
     "output_type": "execute_result"
    }
   ],
   "source": [
    "data = pd.read_csv('ex2data2.txt', names=['Test1', 'Test2', 'Accepted'])\n",
    "data.head()"
   ]
  },
  {
   "cell_type": "code",
   "execution_count": 3,
   "id": "5826ee2d",
   "metadata": {},
   "outputs": [
    {
     "data": {
      "image/png": "[encoded data removed]",
      "text/plain": [
       "<Figure size 432x288 with 1 Axes>"
      ]
     },
     "metadata": {
      "needs_background": "light"
     },
     "output_type": "display_data"
    }
   ],
   "source": [
    "fig, ax = plt.subplots()\n",
    "ax.scatter(data[data['Accepted'] == 0]['Test1'], data[data['Accepted'] == 0]['Test2'], c='r', marker='x', label='y = 0')\n",
    "ax.scatter(data[data['Accepted'] == 1]['Test1'], data[data['Accepted'] == 1]['Test2'], c='b', marker='o', label='y = 1')\n",
    "ax.legend()\n",
    "ax.set(xlabel = 'Test 1', ylabel = 'Test 2', title = 'Traing set')\n",
    "plt.show()"
   ]
  },
  {
   "cell_type": "markdown",
   "id": "6303a36a",
   "metadata": {},
   "source": [
    "## 特征映射"
   ]
  },
  {
   "cell_type": "code",
   "execution_count": 29,
   "id": "fc44f3df",
   "metadata": {},
   "outputs": [],
   "source": [
    "def mapFeature(x1, x2, power):\n",
    "    data = {}\n",
    "    for i in range(power + 1):\n",
    "        for j in range(i + 1):\n",
    "            data[f'F{i - j}{j}'] = np.power(x1, i - j) * np.power(x2, j)\n",
    "            \n",
    "    return pd.DataFrame(data)"
   ]
  },
  {
   "cell_type": "code",
   "execution_count": 30,
   "id": "b03fa021",
   "metadata": {},
   "outputs": [],
   "source": [
    "x1 = data['Test1']\n",
    "x2 = data['Test2']"
   ]
  },
  {
   "cell_type": "code",
   "execution_count": 37,
   "id": "7019c1d7",
   "metadata": {},
   "outputs": [],
   "source": [
    "data2 = mapFeature(x1, x2, 6)"
   ]
  },
  {
   "cell_type": "code",
   "execution_count": 38,
   "id": "9739c684",
   "metadata": {},
   "outputs": [
    {
     "data": {
      "text/html": [
       "<div>\n",
       "<style scoped>\n",
       "    .dataframe tbody tr th:only-of-type {\n",
       "        vertical-align: middle;\n",
       "    }\n",
       "\n",
       "    .dataframe tbody tr th {\n",
       "        vertical-align: top;\n",
       "    }\n",
       "\n",
       "    .dataframe thead th {\n",
       "        text-align: right;\n",
       "    }\n",
       "</style>\n",
       "<table border=\"1\" class=\"dataframe\">\n",
       "  <thead>\n",
       "    <tr style=\"text-align: right;\">\n",
       "      <th></th>\n",
       "      <th>F00</th>\n",
       "      <th>F10</th>\n",
       "      <th>F01</th>\n",
       "      <th>F20</th>\n",
       "      <th>F11</th>\n",
       "      <th>F02</th>\n",
       "      <th>F30</th>\n",
       "      <th>F21</th>\n",
       "      <th>F12</th>\n",
       "      <th>F03</th>\n",
       "      <th>...</th>\n",
       "      <th>F23</th>\n",
       "      <th>F14</th>\n",
       "      <th>F05</th>\n",
       "      <th>F60</th>\n",
       "      <th>F51</th>\n",
       "      <th>F42</th>\n",
       "      <th>F33</th>\n",
       "      <th>F24</th>\n",
       "      <th>F15</th>\n",
       "      <th>F06</th>\n",
       "    </tr>\n",
       "  </thead>\n",
       "  <tbody>\n",
       "    <tr>\n",
       "      <th>0</th>\n",
       "      <td>1.0</td>\n",
       "      <td>0.051267</td>\n",
       "      <td>0.69956</td>\n",
       "      <td>0.002628</td>\n",
       "      <td>0.035864</td>\n",
       "      <td>0.489384</td>\n",
       "      <td>0.000135</td>\n",
       "      <td>0.001839</td>\n",
       "      <td>0.025089</td>\n",
       "      <td>0.342354</td>\n",
       "      <td>...</td>\n",
       "      <td>0.000900</td>\n",
       "      <td>0.012278</td>\n",
       "      <td>0.167542</td>\n",
       "      <td>1.815630e-08</td>\n",
       "      <td>2.477505e-07</td>\n",
       "      <td>0.000003</td>\n",
       "      <td>0.000046</td>\n",
       "      <td>0.000629</td>\n",
       "      <td>0.008589</td>\n",
       "      <td>0.117206</td>\n",
       "    </tr>\n",
       "    <tr>\n",
       "      <th>1</th>\n",
       "      <td>1.0</td>\n",
       "      <td>-0.092742</td>\n",
       "      <td>0.68494</td>\n",
       "      <td>0.008601</td>\n",
       "      <td>-0.063523</td>\n",
       "      <td>0.469143</td>\n",
       "      <td>-0.000798</td>\n",
       "      <td>0.005891</td>\n",
       "      <td>-0.043509</td>\n",
       "      <td>0.321335</td>\n",
       "      <td>...</td>\n",
       "      <td>0.002764</td>\n",
       "      <td>-0.020412</td>\n",
       "      <td>0.150752</td>\n",
       "      <td>6.362953e-07</td>\n",
       "      <td>-4.699318e-06</td>\n",
       "      <td>0.000035</td>\n",
       "      <td>-0.000256</td>\n",
       "      <td>0.001893</td>\n",
       "      <td>-0.013981</td>\n",
       "      <td>0.103256</td>\n",
       "    </tr>\n",
       "    <tr>\n",
       "      <th>2</th>\n",
       "      <td>1.0</td>\n",
       "      <td>-0.213710</td>\n",
       "      <td>0.69225</td>\n",
       "      <td>0.045672</td>\n",
       "      <td>-0.147941</td>\n",
       "      <td>0.479210</td>\n",
       "      <td>-0.009761</td>\n",
       "      <td>0.031616</td>\n",
       "      <td>-0.102412</td>\n",
       "      <td>0.331733</td>\n",
       "      <td>...</td>\n",
       "      <td>0.015151</td>\n",
       "      <td>-0.049077</td>\n",
       "      <td>0.158970</td>\n",
       "      <td>9.526844e-05</td>\n",
       "      <td>-3.085938e-04</td>\n",
       "      <td>0.001000</td>\n",
       "      <td>-0.003238</td>\n",
       "      <td>0.010488</td>\n",
       "      <td>-0.033973</td>\n",
       "      <td>0.110047</td>\n",
       "    </tr>\n",
       "    <tr>\n",
       "      <th>3</th>\n",
       "      <td>1.0</td>\n",
       "      <td>-0.375000</td>\n",
       "      <td>0.50219</td>\n",
       "      <td>0.140625</td>\n",
       "      <td>-0.188321</td>\n",
       "      <td>0.252195</td>\n",
       "      <td>-0.052734</td>\n",
       "      <td>0.070620</td>\n",
       "      <td>-0.094573</td>\n",
       "      <td>0.126650</td>\n",
       "      <td>...</td>\n",
       "      <td>0.017810</td>\n",
       "      <td>-0.023851</td>\n",
       "      <td>0.031940</td>\n",
       "      <td>2.780914e-03</td>\n",
       "      <td>-3.724126e-03</td>\n",
       "      <td>0.004987</td>\n",
       "      <td>-0.006679</td>\n",
       "      <td>0.008944</td>\n",
       "      <td>-0.011978</td>\n",
       "      <td>0.016040</td>\n",
       "    </tr>\n",
       "    <tr>\n",
       "      <th>4</th>\n",
       "      <td>1.0</td>\n",
       "      <td>-0.513250</td>\n",
       "      <td>0.46564</td>\n",
       "      <td>0.263426</td>\n",
       "      <td>-0.238990</td>\n",
       "      <td>0.216821</td>\n",
       "      <td>-0.135203</td>\n",
       "      <td>0.122661</td>\n",
       "      <td>-0.111283</td>\n",
       "      <td>0.100960</td>\n",
       "      <td>...</td>\n",
       "      <td>0.026596</td>\n",
       "      <td>-0.024128</td>\n",
       "      <td>0.021890</td>\n",
       "      <td>1.827990e-02</td>\n",
       "      <td>-1.658422e-02</td>\n",
       "      <td>0.015046</td>\n",
       "      <td>-0.013650</td>\n",
       "      <td>0.012384</td>\n",
       "      <td>-0.011235</td>\n",
       "      <td>0.010193</td>\n",
       "    </tr>\n",
       "  </tbody>\n",
       "</table>\n",
       "<p>5 rows × 28 columns</p>\n",
       "</div>"
      ],
      "text/plain": [
       "   F00       F10      F01       F20       F11       F02       F30       F21  \\\n",
       "0  1.0  0.051267  0.69956  0.002628  0.035864  0.489384  0.000135  0.001839   \n",
       "1  1.0 -0.092742  0.68494  0.008601 -0.063523  0.469143 -0.000798  0.005891   \n",
       "2  1.0 -0.213710  0.69225  0.045672 -0.147941  0.479210 -0.009761  0.031616   \n",
       "3  1.0 -0.375000  0.50219  0.140625 -0.188321  0.252195 -0.052734  0.070620   \n",
       "4  1.0 -0.513250  0.46564  0.263426 -0.238990  0.216821 -0.135203  0.122661   \n",
       "\n",
       "        F12       F03  ...       F23       F14       F05           F60  \\\n",
       "0  0.025089  0.342354  ...  0.000900  0.012278  0.167542  1.815630e-08   \n",
       "1 -0.043509  0.321335  ...  0.002764 -0.020412  0.150752  6.362953e-07   \n",
       "2 -0.102412  0.331733  ...  0.015151 -0.049077  0.158970  9.526844e-05   \n",
       "3 -0.094573  0.126650  ...  0.017810 -0.023851  0.031940  2.780914e-03   \n",
       "4 -0.111283  0.100960  ...  0.026596 -0.024128  0.021890  1.827990e-02   \n",
       "\n",
       "            F51       F42       F33       F24       F15       F06  \n",
       "0  2.477505e-07  0.000003  0.000046  0.000629  0.008589  0.117206  \n",
       "1 -4.699318e-06  0.000035 -0.000256  0.001893 -0.013981  0.103256  \n",
       "2 -3.085938e-04  0.001000 -0.003238  0.010488 -0.033973  0.110047  \n",
       "3 -3.724126e-03  0.004987 -0.006679  0.008944 -0.011978  0.016040  \n",
       "4 -1.658422e-02  0.015046 -0.013650  0.012384 -0.011235  0.010193  \n",
       "\n",
       "[5 rows x 28 columns]"
      ]
     },
     "execution_count": 38,
     "metadata": {},
     "output_type": "execute_result"
    }
   ],
   "source": [
    "data2.head()"
   ]
  },
  {
   "cell_type": "markdown",
   "id": "be03ebe9",
   "metadata": {},
   "source": [
    "## 构造数据集"
   ]
  },
  {
   "cell_type": "code",
   "execution_count": 39,
   "id": "fc5e9f55",
   "metadata": {},
   "outputs": [
    {
     "data": {
      "text/plain": [
       "(118, 28)"
      ]
     },
     "execution_count": 39,
     "metadata": {},
     "output_type": "execute_result"
    }
   ],
   "source": [
    "X = data2.values\n",
    "X.shape"
   ]
  },
  {
   "cell_type": "code",
   "execution_count": 40,
   "id": "e1f03e32",
   "metadata": {},
   "outputs": [
    {
     "data": {
      "text/html": [
       "<div>\n",
       "<style scoped>\n",
       "    .dataframe tbody tr th:only-of-type {\n",
       "        vertical-align: middle;\n",
       "    }\n",
       "\n",
       "    .dataframe tbody tr th {\n",
       "        vertical-align: top;\n",
       "    }\n",
       "\n",
       "    .dataframe thead th {\n",
       "        text-align: right;\n",
       "    }\n",
       "</style>\n",
       "<table border=\"1\" class=\"dataframe\">\n",
       "  <thead>\n",
       "    <tr style=\"text-align: right;\">\n",
       "      <th></th>\n",
       "      <th>Test1</th>\n",
       "      <th>Test2</th>\n",
       "      <th>Accepted</th>\n",
       "    </tr>\n",
       "  </thead>\n",
       "  <tbody>\n",
       "    <tr>\n",
       "      <th>0</th>\n",
       "      <td>0.051267</td>\n",
       "      <td>0.699560</td>\n",
       "      <td>1</td>\n",
       "    </tr>\n",
       "    <tr>\n",
       "      <th>1</th>\n",
       "      <td>-0.092742</td>\n",
       "      <td>0.684940</td>\n",
       "      <td>1</td>\n",
       "    </tr>\n",
       "    <tr>\n",
       "      <th>2</th>\n",
       "      <td>-0.213710</td>\n",
       "      <td>0.692250</td>\n",
       "      <td>1</td>\n",
       "    </tr>\n",
       "    <tr>\n",
       "      <th>3</th>\n",
       "      <td>-0.375000</td>\n",
       "      <td>0.502190</td>\n",
       "      <td>1</td>\n",
       "    </tr>\n",
       "    <tr>\n",
       "      <th>4</th>\n",
       "      <td>-0.513250</td>\n",
       "      <td>0.465640</td>\n",
       "      <td>1</td>\n",
       "    </tr>\n",
       "    <tr>\n",
       "      <th>...</th>\n",
       "      <td>...</td>\n",
       "      <td>...</td>\n",
       "      <td>...</td>\n",
       "    </tr>\n",
       "    <tr>\n",
       "      <th>113</th>\n",
       "      <td>-0.720620</td>\n",
       "      <td>0.538740</td>\n",
       "      <td>0</td>\n",
       "    </tr>\n",
       "    <tr>\n",
       "      <th>114</th>\n",
       "      <td>-0.593890</td>\n",
       "      <td>0.494880</td>\n",
       "      <td>0</td>\n",
       "    </tr>\n",
       "    <tr>\n",
       "      <th>115</th>\n",
       "      <td>-0.484450</td>\n",
       "      <td>0.999270</td>\n",
       "      <td>0</td>\n",
       "    </tr>\n",
       "    <tr>\n",
       "      <th>116</th>\n",
       "      <td>-0.006336</td>\n",
       "      <td>0.999270</td>\n",
       "      <td>0</td>\n",
       "    </tr>\n",
       "    <tr>\n",
       "      <th>117</th>\n",
       "      <td>0.632650</td>\n",
       "      <td>-0.030612</td>\n",
       "      <td>0</td>\n",
       "    </tr>\n",
       "  </tbody>\n",
       "</table>\n",
       "<p>118 rows × 3 columns</p>\n",
       "</div>"
      ],
      "text/plain": [
       "        Test1     Test2  Accepted\n",
       "0    0.051267  0.699560         1\n",
       "1   -0.092742  0.684940         1\n",
       "2   -0.213710  0.692250         1\n",
       "3   -0.375000  0.502190         1\n",
       "4   -0.513250  0.465640         1\n",
       "..        ...       ...       ...\n",
       "113 -0.720620  0.538740         0\n",
       "114 -0.593890  0.494880         0\n",
       "115 -0.484450  0.999270         0\n",
       "116 -0.006336  0.999270         0\n",
       "117  0.632650 -0.030612         0\n",
       "\n",
       "[118 rows x 3 columns]"
      ]
     },
     "execution_count": 40,
     "metadata": {},
     "output_type": "execute_result"
    }
   ],
   "source": [
    "data"
   ]
  },
  {
   "cell_type": "code",
   "execution_count": 41,
   "id": "aac1ebcd",
   "metadata": {},
   "outputs": [
    {
     "data": {
      "text/plain": [
       "(118, 1)"
      ]
     },
     "execution_count": 41,
     "metadata": {},
     "output_type": "execute_result"
    }
   ],
   "source": [
    "y = data.iloc[:, -1].values\n",
    "y = y.reshape(len(y), 1)\n",
    "y.shape"
   ]
  },
  {
   "cell_type": "markdown",
   "id": "cce53a63",
   "metadata": {},
   "source": [
    "## 假设函数"
   ]
  },
  {
   "cell_type": "code",
   "execution_count": 11,
   "id": "4f994ee5",
   "metadata": {},
   "outputs": [],
   "source": [
    "def sigmoid(z):\n",
    "    return 1 / (1 + np.exp(-z))"
   ]
  },
  {
   "cell_type": "markdown",
   "id": "8860474c",
   "metadata": {},
   "source": [
    "## 代价函数"
   ]
  },
  {
   "cell_type": "code",
   "execution_count": 12,
   "id": "1d1b874f",
   "metadata": {},
   "outputs": [],
   "source": [
    "def costFunction(X, y, theta, lamda):\n",
    "    g = sigmoid(X @ theta)\n",
    "    first = y * np.log(g)\n",
    "    second = (1 - y) * np.log(1 - g)\n",
    "    \n",
    "    reg = np.sum(np.power(theta[1:], 2)) * lamda / (2 * len(X))\n",
    "    \n",
    "    return -np.sum(first + second) / len(X) + reg"
   ]
  },
  {
   "cell_type": "code",
   "execution_count": 13,
   "id": "19e6c113",
   "metadata": {},
   "outputs": [
    {
     "data": {
      "text/plain": [
       "(28, 1)"
      ]
     },
     "execution_count": 13,
     "metadata": {},
     "output_type": "execute_result"
    }
   ],
   "source": [
    "theta = np.zeros((X.shape[1], 1))\n",
    "theta.shape"
   ]
  },
  {
   "cell_type": "code",
   "execution_count": 45,
   "id": "ca993743",
   "metadata": {},
   "outputs": [],
   "source": [
    "lamda = 1"
   ]
  },
  {
   "cell_type": "code",
   "execution_count": 46,
   "id": "ed75fb7c",
   "metadata": {},
   "outputs": [
    {
     "data": {
      "text/plain": [
       "0.6931471805599454"
      ]
     },
     "execution_count": 46,
     "metadata": {},
     "output_type": "execute_result"
    }
   ],
   "source": [
    "cost_init = costFunction(X, y, theta, lamda)\n",
    "cost_init"
   ]
  },
  {
   "cell_type": "markdown",
   "id": "c39f8518",
   "metadata": {},
   "source": [
    "## 梯度下降法"
   ]
  },
  {
   "cell_type": "code",
   "execution_count": 47,
   "id": "d19628f7",
   "metadata": {},
   "outputs": [],
   "source": [
    "def gradientDescent(X, y, theta, iters, alpha, lamda):\n",
    "    m = len(X)\n",
    "    costs = []\n",
    "    \n",
    "    for i in range(iters):\n",
    "        reg = theta[1:] * (lamda / m)\n",
    "        reg = np.insert(reg, 0, values=0, axis=0)\n",
    "        \n",
    "        g = sigmoid(X @ theta)\n",
    "        theta = theta - (alpha / m) * (X.T @ (g - y)) - reg\n",
    "        cost = costFunction(X, y, theta, lamda)\n",
    "        costs.append(cost)\n",
    "        if i % 1000 == 0:\n",
    "            print(cost)\n",
    "            \n",
    "    return costs, theta"
   ]
  },
  {
   "cell_type": "code",
   "execution_count": 77,
   "id": "e740fc6a",
   "metadata": {},
   "outputs": [],
   "source": [
    "alpha = 0.001\n",
    "iters = 200000\n",
    "lamda = 0.001"
   ]
  },
  {
   "cell_type": "code",
   "execution_count": 78,
   "id": "e079af49",
   "metadata": {},
   "outputs": [
    {
     "name": "stdout",
     "output_type": "stream",
     "text": [
      "0.693134380798985\n",
      "0.6818650671550655\n",
      "0.672748697667896\n",
      "0.6649382350210216\n",
      "0.6579891999128368\n",
      "0.6516587811169662\n",
      "0.645806149345912\n",
      "0.6403433508679413\n",
      "0.6352109729552581\n",
      "0.6303658897986846\n",
      "0.625774925450325\n",
      "0.6214114460854341\n",
      "0.6172534280039077\n",
      "0.613282288876784\n",
      "0.6094821289408\n",
      "0.6058392039109464\n",
      "0.6023415373766955\n",
      "0.598978623166525\n",
      "0.5957411897406796\n",
      "0.5926210098409752\n",
      "0.5896107446192148\n",
      "0.5867038148430397\n",
      "0.5838942938016073\n",
      "0.5811768178314223\n",
      "0.5785465112720828\n",
      "0.575998923306738\n",
      "0.5735299746304318\n",
      "0.5711359122705992\n",
      "0.5688132711873028\n",
      "0.5665588415252293\n",
      "0.5643696405879911\n",
      "0.5622428887672919\n",
      "0.5601759887921506\n",
      "0.5581665077721994\n",
      "0.5562121615984903\n",
      "0.5543108013388565\n",
      "0.5524604013255084\n",
      "0.5506590486826008\n",
      "0.5489049340828341\n",
      "0.547196343556383\n",
      "0.5455316512037752\n",
      "0.5439093126878609\n",
      "0.5423278593995745\n",
      "0.5407858932084394\n",
      "0.5392820817223566\n",
      "0.5378151539925351\n",
      "0.536383896608914\n",
      "0.5349871501393716\n",
      "0.5336238058727042\n",
      "0.5322928028309695\n",
      "0.5309931250215412\n",
      "0.5297237989032203\n",
      "0.528483891044156\n",
      "0.5272725059522052\n",
      "0.5260887840608138\n",
      "0.5249318998556108\n",
      "0.523801060128681\n",
      "0.5226955023490345\n",
      "0.521614493139108\n",
      "0.5205573268482757\n",
      "0.5195233242153316\n",
      "0.5185118311127693\n",
      "0.517522217366422\n",
      "0.5165538756446821\n",
      "0.5156062204120886\n",
      "0.5146786869425668\n",
      "0.513770730388052\n",
      "0.5128818248986119\n",
      "0.5120114627905322\n",
      "0.5111591537591327\n",
      "0.5103244241333585\n",
      "0.5095068161694348\n",
      "0.5087058873810841\n",
      "0.5079212099040196\n",
      "0.5071523698925874\n",
      "0.5063989669466041\n",
      "0.5056606135665728\n",
      "0.504936934635598\n",
      "0.5042275669264422\n",
      "0.5035321586322633\n",
      "0.5028503689196948\n",
      "0.5021818675029982\n",
      "0.5015263342381191\n",
      "0.5008834587355473\n",
      "0.5002529399909577\n",
      "0.499634486032665\n",
      "0.49902781358500103\n",
      "0.4984326477467658\n",
      "0.4978487216839617\n",
      "0.49727577633606984\n",
      "0.49671356013516815\n",
      "0.49616182873723635\n",
      "0.49562034476502925\n",
      "0.4950888775619359\n",
      "0.4945672029562791\n",
      "0.49405510303553657\n",
      "0.49355236592999596\n",
      "0.4930587856053877\n",
      "0.49257416166405826\n",
      "0.4920982991542736\n",
      "0.49163100838726903\n",
      "0.4911721047616748\n",
      "0.49072140859497326\n",
      "0.49027874496165974\n",
      "0.48984394353779454\n",
      "0.4894168384516561\n",
      "0.48899726814021005\n",
      "0.4885850752111383\n",
      "0.4881801063101703\n",
      "0.4877822119934835\n",
      "0.4873912466049452\n",
      "0.48700706815798295\n",
      "0.48662953822187927\n",
      "0.48625852181229895\n",
      "0.48589388728586397\n",
      "0.485535506238602\n",
      "0.48518325340810325\n",
      "0.48483700657922724\n",
      "0.4844966464932087\n",
      "0.4841620567600216\n",
      "0.4838331237738637\n",
      "0.48350973663163216\n",
      "0.48319178705426613\n",
      "0.48287916931084124\n",
      "0.4825717801452999\n",
      "0.4822695187057148\n",
      "0.4819722864759785\n",
      "0.4816799872098269\n",
      "0.4813925268671011\n",
      "0.48110981355215765\n",
      "0.4808317574543443\n",
      "0.48055827079046187\n",
      "0.4802892677491321\n",
      "0.4800246644369971\n",
      "0.47976437882668443\n",
      "0.47950833070646537\n",
      "0.4792564416315435\n",
      "0.47900863487691325\n",
      "0.47876483539172776\n",
      "0.4785249697551193\n",
      "0.47828896613342015\n",
      "0.47805675423872895\n",
      "0.47782826528877576\n",
      "0.4776034319680369\n",
      "0.47738218839005475\n",
      "0.47716447006091733\n",
      "0.47695021384385716\n",
      "0.4767393579249295\n",
      "0.47653184177973007\n",
      "0.4763276061411169\n",
      "0.4761265929678997\n",
      "0.47592874541446206\n",
      "0.4757340078012881\n",
      "0.4755423255863549\n",
      "0.4753536453373683\n",
      "0.47516791470480785\n",
      "0.4749850823957551\n",
      "0.47480509814847927\n",
      "0.4746279127077522\n",
      "0.4744534778008714\n",
      "0.4742817461143651\n",
      "0.474112671271355\n",
      "0.473946207809561\n",
      "0.47378231115991715\n",
      "0.47362093762579055\n",
      "0.47346204436277134\n",
      "0.4733055893590243\n",
      "0.47315153141617894\n",
      "0.47299983013074365\n",
      "0.47285044587602415\n",
      "0.47270333978453216\n",
      "0.4725584737308694\n",
      "0.4724158103150689\n",
      "0.47227531284638247\n",
      "0.4721369453274973\n",
      "0.4720006724391722\n",
      "0.4718664595252757\n",
      "0.4717342725782179\n",
      "0.47160407822476097\n",
      "0.47147584371219914\n",
      "0.47134953689489356\n",
      "0.47122512622115587\n",
      "0.4711025807204652\n",
      "0.4709818699910128\n",
      "0.47086296418756024\n",
      "0.4707458340096072\n",
      "0.47063045068985293\n",
      "0.47051678598294955\n",
      "0.4704048121545338\n",
      "0.47029450197053163\n",
      "0.47018582868672504\n",
      "0.47007876603857873\n",
      "0.46997328823131185\n",
      "0.4698693699302143\n",
      "0.4697669862511968\n",
      "0.4696661127515702\n",
      "0.4695667254210447\n",
      "0.46946880067294744\n",
      "0.46937231533564516\n",
      "0.4692772466441764\n"
     ]
    }
   ],
   "source": [
    "costs, theta_final = gradientDescent(X, y, theta, iters, alpha, lamda)"
   ]
  },
  {
   "cell_type": "code",
   "execution_count": 79,
   "id": "bc60b45b",
   "metadata": {},
   "outputs": [
    {
     "data": {
      "text/plain": [
       "array([[ 1.2052072 ],\n",
       "       [ 0.5825871 ],\n",
       "       [ 1.13133192],\n",
       "       [-1.92011714],\n",
       "       [-0.83055737],\n",
       "       [-1.28494641],\n",
       "       [ 0.10189184],\n",
       "       [-0.34252061],\n",
       "       [-0.3413474 ],\n",
       "       [-0.18126064],\n",
       "       [-1.40955679],\n",
       "       [-0.06604286],\n",
       "       [-0.58032027],\n",
       "       [-0.2460958 ],\n",
       "       [-1.14671096],\n",
       "       [-0.24322073],\n",
       "       [-0.20113005],\n",
       "       [-0.05872139],\n",
       "       [-0.25848869],\n",
       "       [-0.27166559],\n",
       "       [-0.4910192 ],\n",
       "       [-1.01575376],\n",
       "       [ 0.01109593],\n",
       "       [-0.28015729],\n",
       "       [ 0.00479456],\n",
       "       [-0.30974881],\n",
       "       [-0.12601945],\n",
       "       [-0.94013426]])"
      ]
     },
     "execution_count": 79,
     "metadata": {},
     "output_type": "execute_result"
    }
   ],
   "source": [
    "theta_final"
   ]
  },
  {
   "cell_type": "code",
   "execution_count": 80,
   "id": "2357cba3",
   "metadata": {},
   "outputs": [],
   "source": [
    "def predict(X, theta):\n",
    "    prob = sigmoid(X @ theta)\n",
    "    return [1 if x >= 0.5 else 0 for x in prob]"
   ]
  },
  {
   "cell_type": "code",
   "execution_count": 81,
   "id": "e88347de",
   "metadata": {},
   "outputs": [
    {
     "data": {
      "text/plain": [
       "0.8305084745762712"
      ]
     },
     "execution_count": 81,
     "metadata": {},
     "output_type": "execute_result"
    }
   ],
   "source": [
    "y_ = np.array(predict(X, theta_final))\n",
    "y_pre = y_.reshape(len(y_), 1)\n",
    "acc = np.mean(y_pre == y)\n",
    "acc"
   ]
  },
  {
   "cell_type": "code",
   "execution_count": 76,
   "id": "bc70ea7e",
   "metadata": {},
   "outputs": [
    {
     "data": {
      "image/png": "[encoded data removed]",
      "text/plain": [
       "<Figure size 432x288 with 1 Axes>"
      ]
     },
     "metadata": {
      "needs_background": "light"
     },
     "output_type": "display_data"
    }
   ],
   "source": [
    "x = np.linspace(-1.2, 1.2, 200)\n",
    "xx, yy = np.meshgrid(x, x)\n",
    "z = mapFeature(xx.ravel(), yy.ravel(), 6).values\n",
    "\n",
    "zz = z @ theta_final\n",
    "zz = zz.reshape(xx.shape)\n",
    "\n",
    "fig, ax = plt.subplots()\n",
    "ax.scatter(data[data['Accepted'] == 0]['Test1'], data[data['Accepted'] == 0]['Test2'], c='r', marker='x', label='y = 0')\n",
    "ax.scatter(data[data['Accepted'] == 1]['Test1'], data[data['Accepted'] == 1]['Test2'], c='b', marker='o', label='y = 1')\n",
    "ax.legend()\n",
    "ax.set(xlabel = 'Test 1', ylabel = 'Test 2', title = 'Traing set')\n",
    "\n",
    "plt.contour(xx, yy, zz, 0)\n",
    "plt.show()"
   ]
  },
  {
   "cell_type": "code",
   "execution_count": null,
   "id": "b5ecd103",
   "metadata": {},
   "outputs": [],
   "source": []
  }
 ],
 "metadata": {
  "kernelspec": {
   "display_name": "Python 3 (ipykernel)",
   "language": "python",
   "name": "python3"
  },
  "language_info": {
   "codemirror_mode": {
    "name": "ipython",
    "version": 3
   },
   "file_extension": ".py",
   "mimetype": "text/x-python",
   "name": "python",
   "nbconvert_exporter": "python",
   "pygments_lexer": "ipython3",
   "version": "3.9.6"
  }
 },
 "nbformat": 4,
 "nbformat_minor": 5
}
