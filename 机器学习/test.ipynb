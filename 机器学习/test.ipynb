{
 "cells": [
  {
   "cell_type": "code",
   "execution_count": 2,
   "id": "3fbd661e",
   "metadata": {},
   "outputs": [],
   "source": [
    "import numpy as np\n",
    "import time"
   ]
  },
  {
   "cell_type": "code",
   "execution_count": 18,
   "id": "2028bc00",
   "metadata": {},
   "outputs": [
    {
     "name": "stdout",
     "output_type": "stream",
     "text": [
      "249736.79437428265\n",
      "first 0.8740425109863281\n",
      "249736.7943742817\n",
      "second 512.8219127655029\n"
     ]
    }
   ],
   "source": [
    "a = np.random.rand(1000000)\n",
    "b = np.random.rand(1000000)\n",
    "\n",
    "begin = time.time()\n",
    "c = np.dot(a, b)\n",
    "end = time.time()\n",
    "print(c)\n",
    "print(\"first\" + \" \" + str((end - begin) * 1000))\n",
    "\n",
    "c = 0\n",
    "begin = time.time()\n",
    "for i in range(1000000):\n",
    "    c += a[i]*b[i]\n",
    "end = time.time()\n",
    "print(c)\n",
    "print(\"second\" + \" \" + str((end - begin) * 1000))"
   ]
  },
  {
   "cell_type": "code",
   "execution_count": null,
   "id": "75f3d984",
   "metadata": {},
   "outputs": [],
   "source": []
  },
  {
   "cell_type": "code",
   "execution_count": null,
   "id": "443c2366",
   "metadata": {},
   "outputs": [],
   "source": []
  }
 ],
 "metadata": {
  "kernelspec": {
   "display_name": "Python [conda env:python38]",
   "language": "python",
   "name": "conda-env-python38-py"
  },
  "language_info": {
   "codemirror_mode": {
    "name": "ipython",
    "version": 3
   },
   "file_extension": ".py",
   "mimetype": "text/x-python",
   "name": "python",
   "nbconvert_exporter": "python",
   "pygments_lexer": "ipython3",
   "version": "3.8.12"
  }
 },
 "nbformat": 4,
 "nbformat_minor": 5
}
