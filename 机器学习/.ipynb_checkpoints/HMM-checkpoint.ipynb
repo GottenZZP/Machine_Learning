{
 "cells": [
  {
   "cell_type": "code",
   "execution_count": 2,
   "id": "4938a009",
   "metadata": {},
   "outputs": [],
   "source": [
    "import numpy as np"
   ]
  },
  {
   "cell_type": "markdown",
   "id": "3c574f2f",
   "metadata": {},
   "source": [
    "## HMM模型算法"
   ]
  },
  {
   "cell_type": "code",
   "execution_count": 3,
   "id": "63cd7424",
   "metadata": {},
   "outputs": [],
   "source": [
    "class HMM(object):\n",
    "    # HMM模型\n",
    "    def __init__(self, N, M, pi=None, A=None, B=None):\n",
    "        \"\"\"\n",
    "        N: 状态数量集\n",
    "        M: 观测数量集\n",
    "        pi: 初始概率分布\n",
    "        A: 状态转移概率矩阵\n",
    "        B: 观测概率矩阵\n",
    "        \"\"\"\n",
    "        self.N = N\n",
    "        self.M = M\n",
    "        self.pi = pi\n",
    "        self.A = A\n",
    "        self.B = B\n",
    "    \n",
    "    # 根据给定的概率分布随机返回数据（索引）\n",
    "    def get_data_with_distribute(self, dist):\n",
    "        r = np.random.rand()\n",
    "        for i, p in enumerate(dist):\n",
    "            if r < p:\n",
    "                return i\n",
    "            r -= p\n",
    "    \n",
    "    # 随机生成观测序列\n",
    "    def generate(self, T: int):\n",
    "        '''\n",
    "        根据给定的参数生成观测序列\n",
    "        T: 指定要生成数据的数量\n",
    "        '''\n",
    "        z = self.get_data_with_distribute(self.pi)\n",
    "        x = self.get_data_with_distribute(self.B[z])\n",
    "        result = [x]\n",
    "        for _ in range(T - 1):\n",
    "            z = self.get_data_with_distribute(self.A[z])\n",
    "            x = self.get_data_with_distribute(self.B[z])\n",
    "            result.append(x)\n",
    "        return result\n",
    "    \n",
    "    # 前向算法（概率计算）\n",
    "    def evaluate(self, X):\n",
    "        '''\n",
    "        根据给定的参数计算条件概率\n",
    "        X: 观测数据\n",
    "        '''\n",
    "        alpha = self.pi * self.B[:, X[0]]\n",
    "        for x in X[1:]:\n",
    "            alpha = np.sum(self.A * alpha.reshape(-1, 1) * self.B[:, x].reshape(1, -1), axis=0)\n",
    "        return alpha.sum()\n",
    "    \n",
    "    # 前向后向算法（概率计算）\n",
    "    def evaluate_backward(self, X):\n",
    "        beta = np.ones(self.N)\n",
    "        for x in X[:0:-1]:\n",
    "            beta_next = np.empty(self.N)\n",
    "            for i in range(self.N):\n",
    "                beta_next[i] = np.sum(self.A[i,:] * self.B[:,x] * beta)\n",
    "            beta = beta_next\n",
    "        return np.sum(beta * self.pi * self.B[:,X[0]])\n",
    "    \n",
    "    # Baum-Welch算法（参数估计）\n",
    "    def fit(self, X):\n",
    "        '''\n",
    "        根据给定观测序列反推参数\n",
    "        '''\n",
    "        # 初始化参数 pi, A, B\n",
    "        self.pi = np.random.sample(self.N)\n",
    "        self.A = np.ones((self.N,self.N)) / self.N\n",
    "        self.B = np.ones((self.N,self.M)) / self.M\n",
    "        self.pi = self.pi / self.pi.sum()\n",
    "        T = len(X)\n",
    "        for _ in range(50):\n",
    "            # 按公式计算下一时刻的参数\n",
    "            alpha, beta = self.get_something(X)\n",
    "            gamma = alpha * beta\n",
    "\n",
    "            for i in range(self.N):\n",
    "                for j in range(self.N):\n",
    "                    self.A[i,j] = np.sum(alpha[:-1,i]*beta[1:,j]*self.A[i,j]*self.B[j,X[1:]]) / gamma[:-1,i].sum()\n",
    "\n",
    "            for j in range(self.N):\n",
    "                for k in range(self.M):\n",
    "                    self.B[j,k] = np.sum(gamma[:,j]*(X == k)) / gamma[:,j].sum()\n",
    "            \n",
    "            self.pi = gamma[0] / gamma[-1].sum()\n",
    "\n",
    "    def get_something(self, X):\n",
    "        '''\n",
    "        根据给定数据与参数，计算所有时刻的前向概率和后向概率\n",
    "        '''\n",
    "        T = len(X)\n",
    "        alpha = np.zeros((T,self.N))\n",
    "        alpha[0,:] = self.pi * self.B[:,X[0]]\n",
    "        for i in range(T-1):\n",
    "            x = X[i+1]\n",
    "            alpha[i+1,:] = np.sum(self.A * alpha[i].reshape(-1,1) * self.B[:,x].reshape(1,-1), axis=0)\n",
    "\n",
    "        beta = np.ones((T,self.N))\n",
    "        for j in range(T-1,0,-1):\n",
    "            for i in range(self.N):\n",
    "                beta[j-1,i] = np.sum(self.A[i,:] * self.B[:,X[j]] * beta[j])\n",
    "\n",
    "        return alpha, beta\n",
    "    \n",
    "    # 维特比算法（解码算法）\n",
    "    def decode(self, X):\n",
    "        T = len(X)\n",
    "        x = X[0]\n",
    "        delta = self.pi * self.B[:,x]\n",
    "        varphi = np.zeros((T, self.N), dtype=int)\n",
    "        path = [0] * T\n",
    "        for i in range(1, T):\n",
    "            delta = delta.reshape(-1,1)     # 转成一列方便广播\n",
    "            tmp = delta * self.A\n",
    "            varphi[i,:] = np.argmax(tmp, axis=0)\n",
    "            delta = np.max(tmp, axis=0) * self.B[:,X[i]]\n",
    "        path[-1] = np.argmax(delta)\n",
    "        # 回溯最优路径\n",
    "        for i in range(T-1,0,-1):\n",
    "            path[i-1] = varphi[i,path[i]]\n",
    "        return path"
   ]
  },
  {
   "cell_type": "code",
   "execution_count": 4,
   "id": "73ed3254",
   "metadata": {},
   "outputs": [],
   "source": [
    "pi = np.array([0.25, 0.25, 0.25, 0.25])\n",
    "A = np.array([\n",
    "    [0, 1, 0, 0],\n",
    "    [0.4, 0, 0.6, 0],\n",
    "    [0, 0.4, 0, 0.6],\n",
    "    [0, 0, 0.5, 0.5]])\n",
    "B = np.array([\n",
    "    [0.5, 0.5],\n",
    "    [0.3, 0.7],\n",
    "    [0.6, 0.4],\n",
    "    [0.8, 0.2]])"
   ]
  },
  {
   "cell_type": "code",
   "execution_count": 5,
   "id": "bfff33c1",
   "metadata": {},
   "outputs": [],
   "source": [
    "# pi = np.array([0.33, 0.33, 0.34])\n",
    "# A = np.array([\n",
    "#     [0.33, 0.33, 0.34],\n",
    "#     [0.33, 0.33, 0.34],\n",
    "#     [0.33, 0.33, 0.34]])\n",
    "# B = np.array([\n",
    "#     [0.16, 0.16, 0.16, 0.16, 0.16, 0.2, 0, 0],\n",
    "#     [0.25, 0.25, 0.25, 0.25, 0, 0, 0, 0],\n",
    "#     [0.125, 0.125, 0.125, 0.125, 0.125, 0.125, 0.125, 0.125]])"
   ]
  },
  {
   "cell_type": "markdown",
   "id": "ec9e3e87",
   "metadata": {},
   "source": [
    "## 创建模型"
   ]
  },
  {
   "cell_type": "code",
   "execution_count": 6,
   "id": "b7ce1f12",
   "metadata": {},
   "outputs": [],
   "source": [
    "hmm = HMM(4, 2, pi, A, B)"
   ]
  },
  {
   "cell_type": "code",
   "execution_count": 19,
   "id": "70572bc6",
   "metadata": {},
   "outputs": [
    {
     "data": {
      "text/plain": [
       "[1, 1, 1, 1, 1, 0, 0, 0, 1, 1]"
      ]
     },
     "execution_count": 19,
     "metadata": {},
     "output_type": "execute_result"
    }
   ],
   "source": [
    "# 随机生成一组观测序列\n",
    "temp = hmm.generate(10)\n",
    "temp"
   ]
  },
  {
   "cell_type": "code",
   "execution_count": 20,
   "id": "f8934414",
   "metadata": {},
   "outputs": [
    {
     "data": {
      "text/plain": [
       "0.00061630632671457277"
      ]
     },
     "execution_count": 20,
     "metadata": {},
     "output_type": "execute_result"
    }
   ],
   "source": [
    "hmm.evaluate(temp)"
   ]
  },
  {
   "cell_type": "code",
   "execution_count": 21,
   "id": "489f519a",
   "metadata": {},
   "outputs": [
    {
     "data": {
      "text/plain": [
       "0.00061630632671457288"
      ]
     },
     "execution_count": 21,
     "metadata": {},
     "output_type": "execute_result"
    }
   ],
   "source": [
    "hmm.evaluate_backward(temp)"
   ]
  },
  {
   "cell_type": "markdown",
   "id": "d5041fb2",
   "metadata": {},
   "source": [
    "## 编码问题，维特比算法"
   ]
  },
  {
   "cell_type": "code",
   "execution_count": 12,
   "id": "80bc6517",
   "metadata": {},
   "outputs": [
    {
     "data": {
      "text/plain": [
       "[1, 0, 1, 2, 3]"
      ]
     },
     "execution_count": 12,
     "metadata": {},
     "output_type": "execute_result"
    }
   ],
   "source": [
    "hmm.decode(temp)"
   ]
  },
  {
   "cell_type": "markdown",
   "id": "1306564d",
   "metadata": {},
   "source": [
    "## 学习问题"
   ]
  },
  {
   "cell_type": "code",
   "execution_count": 61,
   "id": "e262450d",
   "metadata": {},
   "outputs": [
    {
     "name": "stdout",
     "output_type": "stream",
     "text": [
      "[1, 0, 0, 1, 0, 0, 1, 0, 1, 1]\n"
     ]
    }
   ],
   "source": [
    "data = np.array([1, 0, 1, 1, 0, 0, 1, 0, 0, 1])\n",
    "hmm = HMM(4, 2)\n",
    "hmm.fit(data)               # 先根据给定数据反推参数\n",
    "gen_obs = hmm.generate(10)  # 再根据学习的参数生成数据\n",
    "print(gen_obs)"
   ]
  },
  {
   "cell_type": "code",
   "execution_count": 62,
   "id": "5df6618d",
   "metadata": {},
   "outputs": [
    {
     "data": {
      "text/plain": [
       "array([ 1.,  0.,  0.,  0.])"
      ]
     },
     "execution_count": 62,
     "metadata": {},
     "output_type": "execute_result"
    }
   ],
   "source": [
    "hmm.pi"
   ]
  },
  {
   "cell_type": "code",
   "execution_count": 63,
   "id": "ee1ef27d",
   "metadata": {},
   "outputs": [
    {
     "data": {
      "text/plain": [
       "array([[ 0.        ,  1.        ],\n",
       "       [ 0.59835734,  0.40164266],\n",
       "       [ 0.8781513 ,  0.1218487 ],\n",
       "       [ 1.        ,  0.        ]])"
      ]
     },
     "execution_count": 63,
     "metadata": {},
     "output_type": "execute_result"
    }
   ],
   "source": [
    "hmm.B"
   ]
  },
  {
   "cell_type": "code",
   "execution_count": null,
   "id": "717a190a",
   "metadata": {},
   "outputs": [],
   "source": []
  }
 ],
 "metadata": {
  "kernelspec": {
   "display_name": "Python [conda env:python36]",
   "language": "python",
   "name": "conda-env-python36-py"
  },
  "language_info": {
   "codemirror_mode": {
    "name": "ipython",
    "version": 3
   },
   "file_extension": ".py",
   "mimetype": "text/x-python",
   "name": "python",
   "nbconvert_exporter": "python",
   "pygments_lexer": "ipython3",
   "version": "3.6.2"
  }
 },
 "nbformat": 4,
 "nbformat_minor": 5
}
